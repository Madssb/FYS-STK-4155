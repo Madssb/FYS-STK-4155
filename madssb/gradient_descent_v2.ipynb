{
 "cells": [
  {
   "cell_type": "markdown",
   "metadata": {},
   "source": [
    "# Gradient descent\n",
    "for some function $F(\\mathbf{x}), \\mathbf{x} \\equiv (x_1,\\cdots,x_n)$, we may minimize moving in the direction of the negative gradient $-\\nabla F(\\mathbf{x})$, i.e.\n",
    "$$\n",
    "\\mathbf{x}_{k+1} =  \\mathbf{x}_k -\\gamma_k \\nabla  F(\\mathbf{x_k}),\n",
    "$$\n",
    "where $\\gamma_k$ is the learning rate."
   ]
  },
  {
   "cell_type": "code",
   "execution_count": 5,
   "metadata": {},
   "outputs": [
    {
     "name": "stdout",
     "output_type": "stream",
     "text": [
      "final # of iterations: 74\n",
      "tolerance met: True\n"
     ]
    }
   ],
   "source": [
    "\"\"\"\n",
    "Gradient descent optimization\n",
    "\"\"\"\n",
    "\n",
    "import numpy as np\n",
    "def func(x: np.ndarray|float) -> np.ndarray|float:\n",
    "  return 5 + 2*x + 7*x**2\n",
    "\n",
    "\n",
    "def grad_func(x: np.ndarray|float) -> np.ndarray|float:\n",
    "  return 2 + 14*x\n",
    "\n",
    "learning_rate = 0.01\n",
    "iterations_max = 1000\n",
    "tolerance = 1e-5\n",
    "#initial guess\n",
    "guess = 4\n",
    "guesses = [guess]\n",
    "iteration = 0\n",
    "while True:\n",
    "  new_guess = guess - learning_rate*grad_func(guess)\n",
    "  guesses.append(new_guess)\n",
    "  change = new_guess - guess\n",
    "  guess = new_guess\n",
    "  iteration += 1\n",
    "  if iteration > iterations_max or np.abs(change) < tolerance:\n",
    "    break\n",
    "print(f\"final # of iterations: {iteration}\")\n",
    "print(f\"tolerance met: {np.abs(change) < tolerance}\")\n"
   ]
  },
  {
   "cell_type": "markdown",
   "metadata": {},
   "source": [
    "# Gradient Descent with momentum\n",
    "we alter Gradient Descent algorithm to include a momentum/memory term\n",
    "$$\n",
    "\\mathbf{x}_{k+2} = \\mathbf{x}_{k+1} + (\\mathbf{x}_{k+1} - \\mathbf{x}_k)\\gamma - \\gamma_k \\nabla F(\\mathbf{x}_{k+1}),\n",
    "$$\n",
    "where $\\gamma$ is the momentum parameter."
   ]
  },
  {
   "cell_type": "code",
   "execution_count": 103,
   "metadata": {},
   "outputs": [
    {
     "name": "stdout",
     "output_type": "stream",
     "text": [
      "final # of iterations: 73\n",
      "tolerance met: True\n",
      "Final guess: -0.14279748908250572\n",
      "Final output: 4.857142882052867\n"
     ]
    }
   ],
   "source": [
    "\"\"\"\n",
    "Gradient descent with momentum optimization\n",
    "\"\"\"\n",
    "\n",
    "import numpy as np\n",
    "def func(x: np.ndarray|float) -> np.ndarray|float:\n",
    "  return 5 + 2*x + 7*x**2\n",
    "\n",
    "\n",
    "def grad_func(x: np.ndarray|float) -> np.ndarray|float:\n",
    "  return 2 + 14*x\n",
    "\n",
    "learning_rate = 0.01\n",
    "momentum_parameter = 0.01\n",
    "iterations_max = 1000\n",
    "tolerance = 1e-5\n",
    "#initial guess\n",
    "guess = 4\n",
    "guesses = [guess]\n",
    "iteration = 0\n",
    "change = 0\n",
    "while True:\n",
    "  new_guess = guess - learning_rate*grad_func(guess) + change*momentum_parameter\n",
    "  guesses.append(new_guess)\n",
    "  change = new_guess - guess\n",
    "  guess = new_guess\n",
    "  iteration += 1\n",
    "  if iteration > iterations_max or np.abs(change) < tolerance:\n",
    "    break\n",
    "print(f\"final # of iterations: {iteration}\")\n",
    "print(f\"tolerance met: {np.abs(change) < tolerance}\")\n",
    "print(\"Final guess:\", guess)\n",
    "print(\"Final output:\", func(guess))"
   ]
  },
  {
   "cell_type": "markdown",
   "metadata": {},
   "source": [
    "# Stochastic gradient descent\n",
    "for N data points $(\\mathbf{x}_0, \\mathbf{x}_1, \\dots, \\mathbf{x}_{n-1})$, we can parition into $M$ batches, e.g. for 10 datapoints we have $B_1 = (\\mathbf{x}_1, \\mathbf{x}_2),\\dots, B_5 = (\\mathbf{x}_9, \\mathbf{x}_{10})$"
   ]
  },
  {
   "cell_type": "code",
   "execution_count": 252,
   "metadata": {},
   "outputs": [
    {
     "name": "stdout",
     "output_type": "stream",
     "text": [
      "Final guess: -9.147664731485467\n",
      "Final output: 572.4630608146706\n"
     ]
    }
   ],
   "source": [
    "import numpy as np\n",
    "\n",
    "def func(x):\n",
    "    return 5 + 2*x + 7*x**2\n",
    "\n",
    "def grad_func(x):\n",
    "    return 2 + 14*x\n",
    "\n",
    "learning_rate = 0.05\n",
    "epochs = 100\n",
    "batch_size = 50\n",
    "\n",
    "# Initial guess\n",
    "guess = 4\n",
    "guesses = [guess]\n",
    "\n",
    "# Generate random input-output pairs and use them for SGD updates\n",
    "for i in range(epochs):\n",
    "    mini_batch = []\n",
    "    for _ in range(batch_size):\n",
    "        x = np.random.uniform(-10, 10)  # Generate a random input value\n",
    "        y = func(x)  # Compute the corresponding output value\n",
    "        mini_batch.append((x, y))\n",
    "    \n",
    "    gradient = 0\n",
    "    for x, y in mini_batch:\n",
    "        gradient += grad_func(x)  # Compute the gradient based on the sampled input\n",
    "        \n",
    "    gradient /= batch_size\n",
    "    \n",
    "    # Update the guess using the sampled mini-batch\n",
    "    new_guess = guess - learning_rate * gradient  # Update the guess using the update rule for SGD\n",
    "    guess = new_guess\n",
    "    guesses.append(guess)\n",
    "\n",
    "print(\"Final guess:\", guess)\n",
    "print(\"Final output:\", func(guess))"
   ]
  },
  {
   "cell_type": "markdown",
   "metadata": {},
   "source": [
    "# Stochastic Gradient Descent with Momentum"
   ]
  },
  {
   "cell_type": "code",
   "execution_count": 8,
   "metadata": {},
   "outputs": [
    {
     "name": "stdout",
     "output_type": "stream",
     "text": [
      "Converged after 86 iterations.\n",
      "Final estimate for minium point: x=4.800e-02\n"
     ]
    },
    {
     "data": {
      "image/png": "[encoded data removed]",
      "text/plain": [
       "<Figure size 640x480 with 1 Axes>"
      ]
     },
     "metadata": {},
     "output_type": "display_data"
    }
   ],
   "source": [
    "import numpy as np \n",
    "import matplotlib.pyplot as plt \n",
    "\n",
    "def func(x):\n",
    "    return 5 + 2 * x + 7 * x**2\n",
    "\n",
    "def grad_func(x):\n",
    "    return 2 + 14 * x\n",
    "\n",
    "x = np.linspace(-10, 10, 101)\n",
    "y = func(x)\n",
    "\n",
    "learning_rate = 0.01\n",
    "iterations_max = 10000\n",
    "tolerance = 1e-2\n",
    "\n",
    "old_guess = 10\n",
    "guesses = [old_guess]\n",
    "\n",
    "n_epochs = iterations_max\n",
    "minibatch_size = 40\n",
    "n = int(len(x) / minibatch_size)\n",
    "\n",
    "indices = np.arange(len(x))\n",
    "best = np.inf\n",
    "fig, ax = plt.subplots()\n",
    "line, = ax.plot(x, y, lw=1, color='blue')\n",
    "\n",
    "for i in range(n_epochs):\n",
    "    rand_ind = np.random.choice(indices, size=minibatch_size,\n",
    "                                replace=False)\n",
    "    \n",
    "    xi = x[rand_ind]\n",
    "    yi = y[rand_ind]\n",
    "\n",
    "    for j in range(n):\n",
    "        grad = grad_func(xi[j])\n",
    "        change = learning_rate * grad\n",
    "        new_guess = old_guess - change \n",
    "        old_guess = new_guess\n",
    "        \n",
    "        if new_guess < best and new_guess > 0.0:\n",
    "            best = new_guess\n",
    "            ax.scatter(best, func(best), s=6, color='black')\n",
    "        \n",
    "    if new_guess < tolerance:\n",
    "        print(f'Converged after {i} iterations.')\n",
    "        print(f'Final estimate for minium point: x={best:.3e}')\n",
    "        break\n",
    "\n",
    "ax.set_title(f'Est. min. point: x={best:.2g}')\n",
    "ax.text(0.5, 0.75, r'$f(x)=5+2x+7x^2$', transform=ax.transAxes,\n",
    "        ha='center', color=line.get_color())\n",
    "        \n",
    "ax.set_xlabel(r'$x$')\n",
    "ax.set_ylabel(r'$y$')\n",
    "plt.show()"
   ]
  }
 ],
 "metadata": {
  "kernelspec": {
   "display_name": "base",
   "language": "python",
   "name": "python3"
  },
  "language_info": {
   "codemirror_mode": {
    "name": "ipython",
    "version": 3
   },
   "file_extension": ".py",
   "mimetype": "text/x-python",
   "name": "python",
   "nbconvert_exporter": "python",
   "pygments_lexer": "ipython3",
   "version": "3.11.4"
  }
 },
 "nbformat": 4,
 "nbformat_minor": 2
}
